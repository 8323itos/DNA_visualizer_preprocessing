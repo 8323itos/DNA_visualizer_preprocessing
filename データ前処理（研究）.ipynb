{
 "cells": [
  {
   "cell_type": "code",
   "execution_count": null,
   "id": "c0a319ff",
   "metadata": {},
   "outputs": [],
   "source": [
    "#dataフォルダからファイルを取得\n",
    "import pandas as pd\n",
    "import glob\n",
    "datalists = glob.glob('data/*.xlsx')\n",
    "print(datalists)"
   ]
  },
  {
   "cell_type": "code",
   "execution_count": null,
   "id": "6901e3eb",
   "metadata": {
    "scrolled": true
   },
   "outputs": [],
   "source": [
    "#出力されたファイル一覧から、今回使用するファイルをリスト内のインデックス番号でjに指定する。例えば['AAA.xlsx','BBB.xlsx','CCCCxlsx']が\n",
    "#表示されたときAAAファイルは0（ゼロ）、BBBファイルは１、CCCファイルは２\n",
    "j=2\n",
    "#選択したファイルをDataframeに読み込み\n",
    "input_file = pd.ExcelFile(datalists[j])\n",
    "selected_sheet_df = input_file.parse(0)\n",
    "x=int()\n",
    "name = ''\n",
    "print(selected_sheet_df)\n",
    "def new_list(x):\n",
    "#必要な情報（DNA以外）を取り出し①\n",
    "    s1 = selected_sheet_df.loc[:,('Order','Family','Genus','Species','目','科','属','種')]\n",
    "#必要なDNA配列数を取り出します。取り出した後は百分率に変換②\n",
    "    s_d = selected_sheet_df.iloc[:,x]\n",
    "    l=[]\n",
    "    s=s_d.sum()\n",
    "    for i in s_d:\n",
    "        m=int(i) / int(s)\n",
    "        l.append(m)\n",
    "    k = pd.DataFrame(l).rename(columns={0:selected_sheet_df.columns[x]})\n",
    "#①と②のデータを結合\n",
    "    df = pd.merge(k, s1,left_index=True, right_index=True)\n",
    "# 検体名と個々のデータを行方向で紐づけ\n",
    "    name = df.columns[0]\n",
    "    df['検体名'] = name\n",
    "    df = df.rename(columns={name:'DNA比率'})\n",
    "    df = df.fillna('Others')\n",
    "    return df.iloc[:,[9,0,1,2,3,4,5,6,7,8]]"
   ]
  },
  {
   "cell_type": "code",
   "execution_count": 3,
   "id": "0c96d5aa",
   "metadata": {},
   "outputs": [],
   "source": [
    "#夫々のサンプルデータを行方向に連結\n",
    "n=[]\n",
    "for y in range(len(selected_sheet_df.columns)-10):\n",
    "    n.append(y+1)\n",
    "df1 = pd.DataFrame(index=[], columns=[])\n",
    "for x in n:\n",
    "    df1 = pd.concat([df1,new_list(x)])"
   ]
  },
  {
   "cell_type": "code",
   "execution_count": 4,
   "id": "b6af5941",
   "metadata": {},
   "outputs": [],
   "source": [
    "#DNAデータがゼロのものを削除、また同じ生物種のデータをグループ化\n",
    "df1 = df1[['検体名', 'DNA比率', 'Family', 'Genus', 'Species', '科', '属', '種']].groupby(['検体名', 'Family', 'Genus', 'Species', '科', '属', '種'],\n",
    "       as_index=False ).sum()\n",
    "df1 = df1.iloc[:,[0,7,1,2,3,4,5,6]]\n",
    "df_N_new = df1[df1['DNA比率'] >= 0.0000001]"
   ]
  },
  {
   "cell_type": "code",
   "execution_count": 5,
   "id": "551e64a6",
   "metadata": {
    "scrolled": true
   },
   "outputs": [],
   "source": [
    "#蜜源分類をマージ。その後蜜源分類の空白を「3 その他」に\n",
    "df_蜜源分類 = pd.read_excel(\"蜜源分類.xlsx\")\n",
    "df_N_new_蜜源分類 = pd.merge(df_N_new, df_蜜源分類, on='属', how='left')\n",
    "df_N_new_蜜源分類 = df_N_new_蜜源分類.fillna({'蜜源分類': '3 その他'})"
   ]
  },
  {
   "cell_type": "code",
   "execution_count": 6,
   "id": "6804297d",
   "metadata": {},
   "outputs": [],
   "source": [
    "#環境省外来種ファイルを読み込み\n",
    "input_file_name2 = \"fuka_plant2.xlsx\"\n",
    "input_book2 = pd.ExcelFile(input_file_name2)\n",
    "input_sheet_name2 = input_book2.sheet_names\n",
    "#余計な行を削除\n",
    "input_sheet_df2 = input_book2.parse(input_sheet_name2[0], skiprows=4)\n",
    "#余計な行を更に削除。学名がNAの行は除外\n",
    "input_sheet_df2 = input_sheet_df2.dropna(subset=['学名'], axis=0)\n",
    "#必要な列を抽出\n",
    "input_sheet_df2 = input_sheet_df2[['No.','カテゴリ','学名','和名（別名、流通名）']]\n",
    "#データをマージするために目印となるカラム名を変更\n",
    "input_sheet_df2 = input_sheet_df2.rename(columns={'学名':'Species'})\n",
    "#外来種データをマージ。NAは===で表示\n",
    "df_input_sheet_蜜源分類_外来種 = pd.merge(df_N_new_蜜源分類, input_sheet_df2, on='Species', how='left')\n",
    "df_input_sheet_蜜源分類_外来種 = df_input_sheet_蜜源分類_外来種.drop(columns=['No.','和名（別名、流通名）'], axis=1)"
   ]
  },
  {
   "cell_type": "code",
   "execution_count": null,
   "id": "dfa9aa50",
   "metadata": {},
   "outputs": [],
   "source": [
    "#環境省希少種ファイルを読み込み\n",
    "input_file_name3 = \"redlist2020_ikansoku.xlsx\"\n",
    "df_K = pd.ExcelFile(input_file_name3)\n",
    "input_sheet_name3 = df_K.sheet_names\n",
    "input_sheet_df3 = df_K.parse(input_sheet_name3[0])\n",
    "#データをマージするために目印となるカラム名を学名からSpecies変更\n",
    "input_sheet_df3 = input_sheet_df3.rename(columns={'学名':'Species'})\n",
    "#希少種データをマージ\n",
    "df_input_sheet_蜜源分類_外来種_希少種 = pd.merge(df_input_sheet_蜜源分類_外来種, input_sheet_df3, on='Species', how='left')\n",
    "df_input_sheet_蜜源分類_外来種_希少種 = df_input_sheet_蜜源分類_外来種_希少種.drop(columns=['分類群','和名'], axis=1)\n",
    "df_input_sheet_蜜源分類_外来種_希少種 = df_input_sheet_蜜源分類_外来種_希少種.fillna('-')\n",
    "df = df_input_sheet_蜜源分類_外来種_希少種\n",
    "df = df.replace('-','')\n",
    "df['外来種/希少種'] = df['カテゴリ'].str.cat(df['カテゴリー'])\n",
    "df.drop(columns=['カテゴリ', 'カテゴリー'], inplace=True)\n",
    "df"
   ]
  },
  {
   "cell_type": "code",
   "execution_count": 8,
   "id": "0ece8487",
   "metadata": {},
   "outputs": [],
   "source": [
    "#前処理が終了したエクセルファイルを出力\n",
    "name = datalists[j]\n",
    "df.to_excel(name,index=False)"
   ]
  },
  {
   "cell_type": "code",
   "execution_count": null,
   "id": "9c5cfd8a",
   "metadata": {},
   "outputs": [],
   "source": []
  }
 ],
 "metadata": {
  "kernelspec": {
   "display_name": "Python 3 (ipykernel)",
   "language": "python",
   "name": "python3"
  },
  "language_info": {
   "codemirror_mode": {
    "name": "ipython",
    "version": 3
   },
   "file_extension": ".py",
   "mimetype": "text/x-python",
   "name": "python",
   "nbconvert_exporter": "python",
   "pygments_lexer": "ipython3",
   "version": "3.9.12"
  }
 },
 "nbformat": 4,
 "nbformat_minor": 5
}
